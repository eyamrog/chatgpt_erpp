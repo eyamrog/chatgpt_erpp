{
 "cells": [
  {
   "cell_type": "markdown",
   "id": "810d9f10-ec19-4b09-8f90-e983e460b319",
   "metadata": {},
   "source": [
    "<center>\n",
    "<img src=\"https://laelgelcpublic.s3.sa-east-1.amazonaws.com/lael_50_years_narrow_white.png.no_years.400px_96dpi.png\" width=\"300\" alt=\"LAEL 50 years logo\">\n",
    "<h3>APPLIED LINGUISTICS GRADUATE PROGRAMME (LAEL)</h3>\n",
    "</center>\n",
    "<hr>"
   ]
  },
  {
   "cell_type": "markdown",
   "id": "888c2c96-2fc3-4a1a-995b-c388036a2a15",
   "metadata": {},
   "source": [
    "# Using ChatGPT to improve the writing in English for Research Publication Purposes (ERPP)\n",
    "Execute the cells in sequence with 'Shift+Enter'"
   ]
  },
  {
   "cell_type": "markdown",
   "id": "c5ea7438-b6bb-492b-9021-9f5b613efc3d",
   "metadata": {},
   "source": [
    "## Importing the required libraries"
   ]
  },
  {
   "cell_type": "code",
   "execution_count": 1,
   "id": "18b36225-5765-43fb-875f-836ac50a6c8b",
   "metadata": {
    "tags": []
   },
   "outputs": [],
   "source": [
    "import openai\n",
    "from os import environ\n",
    "from google.cloud import translate\n",
    "from IPython.display import clear_output"
   ]
  },
  {
   "cell_type": "markdown",
   "id": "d31429d4-5145-4d62-ba53-10d10c1d607c",
   "metadata": {},
   "source": [
    "## Importing the required programme variables from the environment"
   ]
  },
  {
   "cell_type": "code",
   "execution_count": 2,
   "id": "2e512968-2d8b-4399-a2e6-5578835b2e64",
   "metadata": {
    "tags": []
   },
   "outputs": [],
   "source": [
    "openai.api_key = environ.get('OPENAI_API_KEY', '')\n",
    "assert openai.api_key\n",
    "PROJECT_ID = environ.get('PROJECT_ID', '')\n",
    "assert PROJECT_ID\n",
    "PROJECT_ID = str(PROJECT_ID)\n",
    "PARENT = f'projects/{PROJECT_ID}'\n",
    "#print(openai.api_key)\n",
    "#print(PROJECT_ID)\n",
    "#print(PARENT)"
   ]
  },
  {
   "cell_type": "markdown",
   "id": "7a9c2af7-9fc1-4f51-a4f5-2ed915b93039",
   "metadata": {},
   "source": [
    "## Defining a function to translate passages with Google Cloud Translation API"
   ]
  },
  {
   "cell_type": "code",
   "execution_count": 3,
   "id": "494cddeb-7948-49c6-963c-2d48d4e4be3b",
   "metadata": {
    "tags": []
   },
   "outputs": [],
   "source": [
    "def translate_text(text: str, target_language_code: str) -> translate.Translation:\n",
    "    client = translate.TranslationServiceClient()\n",
    "    response = client.translate_text(\n",
    "        parent = PARENT,\n",
    "        contents = [text],\n",
    "        target_language_code = target_language_code\n",
    "    )\n",
    "    return response.translations[0]"
   ]
  },
  {
   "cell_type": "markdown",
   "id": "d339a5e6-716c-48ab-b7ee-bb3492b2eb60",
   "metadata": {},
   "source": [
    "## Defining a function to query ChatGPT"
   ]
  },
  {
   "cell_type": "code",
   "execution_count": 4,
   "id": "338c22eb-d311-4a52-8af7-7d8d435327dc",
   "metadata": {
    "tags": []
   },
   "outputs": [],
   "source": [
    "def get_completion(prompt, model = 'gpt-3.5-turbo'):\n",
    "    messages = [{'role': 'user', 'content': prompt}]\n",
    "    response = openai.ChatCompletion.create(\n",
    "        model = model,\n",
    "        messages = messages,\n",
    "        temperature = 0\n",
    "    )\n",
    "    return response.choices[0].message['content']"
   ]
  },
  {
   "cell_type": "markdown",
   "id": "e49b0164-cadf-41b8-a7b7-6e8e493b5b10",
   "metadata": {},
   "source": [
    "## Collecting input"
   ]
  },
  {
   "cell_type": "code",
   "execution_count": 8,
   "id": "1efc3d03-e3e4-4069-82f7-b699ac7c7073",
   "metadata": {
    "tags": []
   },
   "outputs": [],
   "source": [
    "end = False\n",
    "filename = ''\n",
    "file = 'dummy.txt'\n",
    "while end == False:\n",
    "    filename = str(input('Enter the output filename without extension: '))\n",
    "    if filename != '':\n",
    "        file = filename + '.txt'\n",
    "        end = True\n",
    "        clear_output()"
   ]
  },
  {
   "cell_type": "markdown",
   "id": "eccb6022-e719-466c-a5a8-bc3d54ca10b1",
   "metadata": {},
   "source": [
    "## Prompting ChatGPT\n",
    "1. If you get an error message indicating '**RemoteDisconnected**' just re-execute the cell with 'Shift+Enter';\n",
    "2. For the sake of readability, the prompt is: 'Dear ChatGPT, would it be possible for you to improve the writing of certain passages of a research article considering the generally accepted standards of English for Academic Purposes? I am going to provide you with a passage at a time. OK?'."
   ]
  },
  {
   "cell_type": "markdown",
   "id": "7544eb7e-d52f-4b55-82a4-1e2aa9f7dfed",
   "metadata": {},
   "source": [
    "### ChatGPT prompts\n",
    "- This is the one being currently used\n",
    "> 'Dear ChatGPT, would it be possible for you to improve the writing of certain passages of a research article considering the generally accepted standards of English for Academic Purposes? I am going to provide you with a passage at a time. OK?'\n",
    "- This prompt explicitly requests ChatGPT to keep each improved passage within a single paragraph but ChatGPT does not keep to it\n",
    "> 'Dear ChatGPT, would it be possible for you to improve the writing of certain passages of a research article considering the generally accepted standards of English for Academic Purposes? Please keep each improved passage within a single paragraph - do not split it into new paragraphs. I am going to provide you with a paragraph at a time. OK?'"
   ]
  },
  {
   "cell_type": "code",
   "execution_count": 9,
   "id": "6472252e-57c8-4bc2-8c67-bb39cdfc66d2",
   "metadata": {
    "tags": []
   },
   "outputs": [
    {
     "name": "stdout",
     "output_type": "stream",
     "text": [
      "ChatGPT revision of writing in ERPP\n",
      "\n",
      "Dear ChatGPT, would it be possible for you to improve the writing of certain passages of a research article considering the generally accepted standards of English for Academic Purposes? I am going to provide you with a passage at a time. OK?\n",
      "\n",
      "Of course! I'd be happy to help you improve the writing of your research article passages. Please provide me with the passage you'd like me to work on, and I'll do my best to enhance it according to the accepted standards of English for Academic Purposes.\n",
      "\n",
      "\n"
     ]
    }
   ],
   "source": [
    "with open(file, 'a', encoding = 'utf8') as responses:\n",
    "    responses.write('ChatGPT revision of writing in ERPP' + '\\n\\n')\n",
    "    prompt = 'Dear ChatGPT, would it be possible for you to improve the writing of certain passages of a research article considering the generally accepted standards of English for Academic Purposes? I am going to provide you with a passage at a time. OK?'    \n",
    "    responses.write(prompt + '\\n\\n')\n",
    "    query = get_completion(prompt)\n",
    "    responses.write(query + '\\n\\n')\n",
    "with open(file, 'r') as responses:\n",
    "    print(responses.read())"
   ]
  },
  {
   "cell_type": "markdown",
   "id": "6975ca1b-4f0f-429d-b3fe-a6d1ca2bba80",
   "metadata": {},
   "source": [
    "## Getting improved passages from ChatGPT\n",
    "1. Enter one paragraph at a time, if you try to enter multiple paragraphs, ChatGPT will summarise the text;\n",
    "2. The programme will keep prompting you for the next paragraph. When you are done, just enter a blank paragraph by hitting 'Enter';\n",
    "3. Move the output file to a safe location.\n",
    "\n",
    "Note: The specification of 'utf8' encoding when opening the output file prevents the code from breaking (**UnicodeEncodeError**) when a passage contains non-printable unicode characters like the ones in this fragment 'variáveis ​​e também' (U+200B). However, in case of error, inspect the passage with websites like [View non-printable unicode characters](https://www.soscisurvey.de/tools/view-chars.php)."
   ]
  },
  {
   "cell_type": "markdown",
   "id": "06d05c46-bdf4-4706-8545-e32f79b7aa36",
   "metadata": {
    "tags": []
   },
   "source": [
    "### Using Google Cloud Translation API before handing over to ChatGPT"
   ]
  },
  {
   "cell_type": "code",
   "execution_count": 10,
   "id": "1a5f07c4-34dc-422b-b6a9-5a1a6499f148",
   "metadata": {
    "tags": []
   },
   "outputs": [],
   "source": [
    "target_language = 'en'\n",
    "sequence = 1\n",
    "end = False\n",
    "passage = ''\n",
    "while end == False:\n",
    "    passage = str(input('Enter passage ' + str(sequence) + ': '))\n",
    "    if passage != '':\n",
    "        with open(file, 'a', encoding = 'utf8') as responses:\n",
    "            responses.write('Passage ' + str(sequence) + ':\\n' + passage + '\\n\\n')\n",
    "            translation = translate_text(passage, target_language)\n",
    "            source_language = translation.detected_language_code\n",
    "            translated_passage = translation.translated_text\n",
    "            responses.write('Translated passage ' + str(sequence) + ' from (' + source_language + ')' + ':\\n' + translated_passage + '\\n\\n')\n",
    "            print('\\nTranslated passage ' + str(sequence) + ' from (' + source_language + ')' + ':\\n' + translated_passage)\n",
    "            query = get_completion(translated_passage)\n",
    "            responses.write('Improved passage ' + str(sequence) + ':\\n' + query + '\\n\\n')\n",
    "            print('\\nImproved passage ' + str(sequence) + ':\\n' + query)\n",
    "            clear_output(wait = True)\n",
    "        sequence += 1\n",
    "    else:\n",
    "        end = True\n",
    "        clear_output()"
   ]
  },
  {
   "cell_type": "markdown",
   "id": "eae7c5b0-d7b4-4c18-b335-f923cdc7caea",
   "metadata": {},
   "source": [
    "### Without Google Cloud Translation API"
   ]
  },
  {
   "cell_type": "code",
   "execution_count": 7,
   "id": "a54903d2-cdf0-4794-8a07-b70e09a36843",
   "metadata": {
    "tags": []
   },
   "outputs": [],
   "source": [
    "sequence = 1\n",
    "end = False\n",
    "passage = ''\n",
    "while end == False:\n",
    "    passage = str(input('Enter passage ' + str(sequence) + ': '))\n",
    "    if passage != '':\n",
    "        with open(file, 'a', encoding = 'utf8') as responses:\n",
    "            responses.write('Passage ' + str(sequence) + ':\\n' + passage + '\\n\\n')\n",
    "            query = get_completion(passage)\n",
    "            responses.write('Improved passage ' + str(sequence) + ':\\n' + query + '\\n\\n')\n",
    "            print('\\nImproved passage ' + str(sequence) + ':\\n' + query)\n",
    "            clear_output(wait = True)\n",
    "        sequence += 1\n",
    "    else:\n",
    "        end = True\n",
    "        clear_output()"
   ]
  },
  {
   "cell_type": "code",
   "execution_count": null,
   "id": "fc6a604d-b853-4673-b77e-57e9bf95a471",
   "metadata": {},
   "outputs": [],
   "source": []
  }
 ],
 "metadata": {
  "kernelspec": {
   "display_name": "Python 3 (ipykernel)",
   "language": "python",
   "name": "python3"
  },
  "language_info": {
   "codemirror_mode": {
    "name": "ipython",
    "version": 3
   },
   "file_extension": ".py",
   "mimetype": "text/x-python",
   "name": "python",
   "nbconvert_exporter": "python",
   "pygments_lexer": "ipython3",
   "version": "3.10.12"
  }
 },
 "nbformat": 4,
 "nbformat_minor": 5
}

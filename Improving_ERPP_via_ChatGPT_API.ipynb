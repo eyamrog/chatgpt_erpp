{
 "cells": [
  {
   "cell_type": "markdown",
   "id": "810d9f10-ec19-4b09-8f90-e983e460b319",
   "metadata": {},
   "source": [
    "<center>\n",
    "<img src=\"http://corpuslg.org/lael_english/wp-content/uploads/2020/04/lael_50_years_narrow_white.png.400px_300dpi.png\" width=\"300\" alt=\"LAEL 50 years logo\">\n",
    "<h3>APPLIED LINGUISTICS GRADUATE PROGRAMME (LAEL)</h3>\n",
    "</center>\n",
    "<hr>"
   ]
  },
  {
   "cell_type": "markdown",
   "id": "888c2c96-2fc3-4a1a-995b-c388036a2a15",
   "metadata": {},
   "source": [
    "# Improving academic writing in English for Research Publication Purposes via the ChatGPT API"
   ]
  },
  {
   "cell_type": "markdown",
   "id": "9b137001-3821-4392-a723-049d00104626",
   "metadata": {},
   "source": [
    "## Introduction\n",
    "The research project **The relevance of AI-powered tools in the English academic writing of Brazilian Scholars in Applied Linguistics and in the visualisation of research data** is being conducted within the scope of the CNPq’s institutional project 73/2022 ‘Inteligência artificial na pesquisa em linguagem e discurso: Galerias multimodais e multidimensionais de visualização’ (‘Artificial intelligence in language and discourse research: Multimodal and multidimensional visualisation galleries’).\n",
    "\n",
    "In the context of this project, this document aims to share a few procedures to help the project's participants improve their academic production in English for Research Publication Purposes (ERPP) via the ChatGPT (OpenAI) API and collect data for the project. Three approaches are presented:\n",
    "\n",
    "- Using a manual approach\n",
    "- Using Python over Ubuntu\n",
    "- Using Python over Jupyter Notebook over Anaconda Distribution"
   ]
  },
  {
   "cell_type": "markdown",
   "id": "dd04ffa0-324e-4ad7-9dfa-143ca84fb49b",
   "metadata": {},
   "source": [
    "### Prerequisites"
   ]
  },
  {
   "cell_type": "markdown",
   "id": "3f46f33d-9fde-443e-9101-4a67c05e4978",
   "metadata": {
    "tags": []
   },
   "source": [
    "- Sign up to an [OpenAI](https://openai.com/) account and set it up as a paid account\n",
    "- Obtain an OpenAI API key [here](https://platform.openai.com/account/api-keys)\n",
    "\n",
    "Note: These prerequisites can be disregarded if the manual approach is chosen."
   ]
  },
  {
   "cell_type": "markdown",
   "id": "7c2e27ae-0acb-4221-912e-1cd44b96acc9",
   "metadata": {},
   "source": [
    "## Using a manual approach"
   ]
  },
  {
   "cell_type": "markdown",
   "id": "6dd3feee-6401-4b51-8850-cc7c61a9b1f6",
   "metadata": {},
   "source": [
    "- Start a new topic on ChatGPT on [OpenAI](https://openai.com/) or [Microsoft Bing](https://www.bing.com/)\n",
    "- Use the prompt **Dear ChatGPT, would it be possible for you to improve the writing of certain passages of a research article considering the generally accepted standards of English for Academic Purposes? I am going to provide you with a passage at a time. OK?**\n",
    "- Enter one paragraph at a time and copy the ChatGPT revised passage into a separate document\n",
    "- The revised paragraphs can be fine-tuned as needed\n",
    "- Keep both the original document and the revised document as data for the mentioned research project"
   ]
  },
  {
   "cell_type": "markdown",
   "id": "f246350c-09ac-4d53-bdaf-af1ac00fffd9",
   "metadata": {},
   "source": [
    "## Using Python over Ubuntu"
   ]
  },
  {
   "cell_type": "markdown",
   "id": "1b602398-928c-4511-b2c7-ad69671480ff",
   "metadata": {},
   "source": [
    "### Installing Ubuntu over Microsoft Windows"
   ]
  },
  {
   "cell_type": "markdown",
   "id": "b8718479-739f-400b-8500-463a01ea0aa6",
   "metadata": {
    "tags": []
   },
   "source": [
    "The Windows Subsystem for Linux (WSL) lets developers install a Linux distribution and use Linux applications, utilities, and Bash command-line tools directly on Windows, unmodified, without the overhead of a traditional virtual machine or dualboot setup.\n",
    "- Follow the procedures on [Install Linux on Windows with WSL](https://learn.microsoft.com/en-us/windows/wsl/install) and on [Set up a WSL development environment](https://learn.microsoft.com/en-us/windows/wsl/setup/environment)"
   ]
  },
  {
   "cell_type": "markdown",
   "id": "bd80c55a-01c8-4c85-9f31-ca015988683f",
   "metadata": {},
   "source": [
    "### Setting up a Python virtual environment"
   ]
  },
  {
   "cell_type": "markdown",
   "id": "81f2c1b4-8282-4069-addb-30cad1e8b3d3",
   "metadata": {
    "tags": []
   },
   "source": [
    "- Follow the procedures on [How To Install Python 3 and Set Up a Programming Environment on Ubuntu 20.04 [Quickstart]](https://www.digitalocean.com/community/tutorials/how-to-install-python-3-and-set-up-a-programming-environment-on-ubuntu-20-04-quickstart), summarised as follows:"
   ]
  },
  {
   "cell_type": "code",
   "execution_count": null,
   "id": "db7d0dd0-1b36-4bcb-a3d5-d0c63c7666eb",
   "metadata": {},
   "outputs": [],
   "source": [
    "eyamrog@RogLet-ASUS:~$ sudo apt update\n",
    "eyamrog@RogLet-ASUS:~$ sudo apt -y upgrade\n",
    "eyamrog@RogLet-ASUS:~$ python3 -V\n",
    "eyamrog@RogLet-ASUS:~$ sudo apt install -y python3-pip\n",
    "eyamrog@RogLet-ASUS:~$ sudo apt install build-essential libssl-dev libffi-dev python3-dev\n",
    "eyamrog@RogLet-ASUS:~$ sudo apt install -y python3-venv\n",
    "eyamrog@RogLet-ASUS:~$"
   ]
  },
  {
   "cell_type": "markdown",
   "id": "29c49df2-4462-4257-b1b2-65a4daaf02ae",
   "metadata": {
    "tags": []
   },
   "source": [
    "Python benefits from a rich set of modules that streamlines the development of solutions. Depending on the way the modules are packaged, their installation can create software dependencies among them that can lead to inconsistencies if not carefully managed. Thus, it is highly recommended that distinct development projects are hosted in distinct virtual environments in order to prevent dependencies on one virtual environment from affecting dependencies on another virtual environment. Virtual environments can be created with [venv](https://docs.python.org/3/library/venv.html). The following line describes the creation of the virtual environment 'my_env' but virtual environments can be named as appropriate."
   ]
  },
  {
   "cell_type": "code",
   "execution_count": null,
   "id": "5a7d770b-fd1b-4200-929d-5a90ea3749ea",
   "metadata": {},
   "outputs": [],
   "source": [
    "eyamrog@RogLet-ASUS:~$ python3 -m venv my_env\n",
    "eyamrog@RogLet-ASUS:~$"
   ]
  },
  {
   "cell_type": "markdown",
   "id": "f1094653-bd6e-4d78-845a-62b823f71d90",
   "metadata": {},
   "source": [
    "Prior to using the environment, it must be activated. The command prompt will now be prefixed with the name of the environment."
   ]
  },
  {
   "cell_type": "code",
   "execution_count": null,
   "id": "044fe676-24d9-4e04-914a-55cbd58724e7",
   "metadata": {},
   "outputs": [],
   "source": [
    "eyamrog@RogLet-ASUS:~$ cd environments\n",
    "eyamrog@RogLet-ASUS:~/environments$ source my_env/bin/activate\n",
    "(my_env) eyamrog@RogLet-ASUS:~/environments$"
   ]
  },
  {
   "cell_type": "markdown",
   "id": "d5bd8447-b747-4be1-a0fd-d7ee5fb5e90f",
   "metadata": {},
   "source": [
    "After using the environment, it can be deactivated:"
   ]
  },
  {
   "cell_type": "code",
   "execution_count": null,
   "id": "5eda1443-ddc0-441c-9648-36cfc3d543cf",
   "metadata": {
    "tags": []
   },
   "outputs": [],
   "source": [
    "(my_env) eyamrog@RogLet-ASUS:~/environments$ deactivate\n",
    "eyamrog@RogLet-ASUS:~/environments$"
   ]
  },
  {
   "cell_type": "markdown",
   "id": "b7c46221-9775-4f0b-b245-2412faeb86ce",
   "metadata": {},
   "source": [
    "### Using 'CL_ChatGPT_ERPP.py' to improve ERPP and collect data"
   ]
  },
  {
   "cell_type": "markdown",
   "id": "973838c0-32fd-4e7a-a22a-153d3d3122c5",
   "metadata": {},
   "source": [
    "#### Obtain the programme"
   ]
  },
  {
   "cell_type": "markdown",
   "id": "0f0a1adc-6082-46d0-bdb3-f77b5883506d",
   "metadata": {},
   "source": [
    "- Obtain the programme from [here](https://github.com/eyamrog/chatgpt_erpp/blob/main/CL_ChatGPT_ERPP.py)\n",
    "- Save it to C:\\Users\\<username> (in this document it is being used 'C:\\Users\\eyamr')"
   ]
  },
  {
   "cell_type": "markdown",
   "id": "ce18f973-c95f-47ae-a101-1c5be0169d37",
   "metadata": {},
   "source": [
    "#### Activate the Python environment and install the required modules"
   ]
  },
  {
   "cell_type": "code",
   "execution_count": null,
   "id": "57af4ca6-83d9-41e5-ad20-f08ca43876a0",
   "metadata": {},
   "outputs": [],
   "source": [
    "eyamrog@RogLet-ASUS:~$ cd environments/my_env\n",
    "eyamrog@RogLet-ASUS:~$ source bin/activate\n",
    "(my_env) eyamrog@RogLet-ASUS:~/environments/my_env$ pip install openai\n",
    "(my_env) eyamrog@RogLet-ASUS:~/environments/my_env$ pip install ipython\n",
    "(my_env) eyamrog@RogLet-ASUS:~/environments/my_env$ pip list\n",
    "Package            Version\n",
    "------------------ ---------\n",
    "<omitted>          <omitted>\n",
    "ipython            8.14.0\n",
    "<omitted>          <omitted>\n",
    "openai             0.27.8\n",
    "<omitted>          <omitted>\n",
    "(my_env) eyamrog@RogLet-ASUS:~/environments/my_env$"
   ]
  },
  {
   "cell_type": "markdown",
   "id": "1ef44928-7daf-4294-86fb-3c5ccf2ade0f",
   "metadata": {},
   "source": [
    "#### Copy the programme into the environment"
   ]
  },
  {
   "cell_type": "code",
   "execution_count": null,
   "id": "4b68033a-5be0-4bf6-8166-5a24d4ccd1fd",
   "metadata": {},
   "outputs": [],
   "source": [
    "(my_env) eyamrog@RogLet-ASUS:~/environments/my_env$ cp /mnt/c/Users/eyamr/CL_ChatGPT_ERPP.py .\n",
    "(my_env) eyamrog@RogLet-ASUS:~/environments/my_env$ ls -la\n",
    "total 64\n",
    "drwxr-xr-x 6 eyamrog eyamrog  4096 Aug 20 15:03 .\n",
    "drwxr-xr-x 3 eyamrog eyamrog  4096 Aug 17 17:28 ..\n",
    "-rwxr-xr-x 1 eyamrog eyamrog  1984 Aug 20 15:03 CL_ChatGPT_ERPP.py\n",
    "drwxr-xr-x 2 eyamrog eyamrog  4096 Aug 20 10:50 bin\n",
    "drwxr-xr-x 2 eyamrog eyamrog  4096 Aug 17 13:28 include\n",
    "drwxr-xr-x 3 eyamrog eyamrog  4096 Aug 17 13:28 lib\n",
    "lrwxrwxrwx 1 eyamrog eyamrog     3 Aug 17 13:28 lib64 -> lib\n",
    "-rw-r--r-- 1 eyamrog eyamrog    71 Aug 17 13:28 pyvenv.cfg\n",
    "drwxr-xr-x 3 eyamrog eyamrog  4096 Aug 20 10:50 share\n",
    "(my_env) eyamrog@RogLet-ASUS:~/environments/my_env$"
   ]
  },
  {
   "cell_type": "markdown",
   "id": "861fba14-06ab-4ddf-bc62-88d8427eed89",
   "metadata": {},
   "source": [
    "#### Execute the programme and enter an empty line when done\n",
    "Notes:\n",
    "1. The programme will ask you to enter your OpenAI API key. You do not need to type in the key. Just copy it from the file you stored it by pressing (Ctrl+C), go back to Ubuntu terminal and right-click on it with your mouse\n",
    "2. Enter one paragraph at a time. Be careful with 'new lines' hidden in the paragraph when copying and pasting text"
   ]
  },
  {
   "cell_type": "code",
   "execution_count": null,
   "id": "f6003f9e-4afb-4304-b38c-1343fa396fab",
   "metadata": {},
   "outputs": [],
   "source": [
    "(my_env) eyamrog@RogLet-ASUS:~/environments/my_env$ python CL_ChatGPT_ERPP.py\n",
    "Enter your OpenAI API key: \n",
    "Enter the output filename without extension: monte_mor\n",
    "ChatGPT revision of writing in ERPP\n",
    "\n",
    "Dear ChatGPT, would it be possible for you to improve the writing of certain passages of a research article considering the generally accepted standards of English for Academic Purposes? I am going to provide you with a passage at a time. OK?\n",
    "\n",
    "Of course! I'd be happy to help you improve the writing of your research article passages. Please provide me with the passage you'd like me to work on, and I'll do my best to enhance it according to the accepted standards of English for Academic Purposes.\n",
    "\n",
    "\n",
    "Enter passage 1: This article presents a research analysis in which Brazilian university students were investigated about their reading of cinema images. The analysis discusses the way the meanings are constructed by these students and reflects upon interpretation and meaning construction, according to new epistemological perspectives that have been postulated recently (Morin 1998; Lankshear & Knobel 2003). It, thus, considers the present needs of the multimodal and hypertextual communication approached in the multiliteracy studies (Cope & Kalantzis 2000), and the university preparation for a critical and participative cultural and social practice (Castels 1999).\n",
    "\n",
    "Improved passage 1:\n",
    "The research analysis focuses on Brazilian university students and their reading of cinema images. It explores how these students construct meanings from the images and reflects on interpretation and meaning construction based on new epistemological perspectives. The article takes into account the current requirements of multimodal and hypertextual communication in multiliteracy studies, as well as the importance of university preparation for critical and participative cultural and social practices.\n",
    "\n",
    "The analysis draws on the works of Morin (1998) and Lankshear & Knobel (2003), who have proposed new epistemological perspectives. These perspectives likely challenge traditional ways of understanding and interpreting cinema images. By considering these new perspectives, the analysis aims to shed light on how meanings are constructed by the students.\n",
    "\n",
    "Additionally, the article emphasizes the importance of multiliteracy studies, which focus on various modes of communication, such as visual, textual, and digital. In today's world, where communication is increasingly multimodal and hypertextual, it is crucial for students to develop skills in understanding and interpreting different forms of media.\n",
    "\n",
    "Furthermore, the article highlights the role of universities in preparing students for critical and participative cultural and social practices. It suggests that universities should equip students with the necessary skills to critically engage with cinema images and other forms of media. This preparation is essential for students to become active participants in cultural and social discussions.\n",
    "\n",
    "Overall, the research analysis presented in this article explores the reading of cinema images by Brazilian university students. It considers new epistemological perspectives, the requirements of multimodal and hypertextual communication, and the importance of university preparation for critical and participative cultural and social practices.\n",
    "Enter passage 2:\n",
    "(my_env) eyamrog@RogLet-ASUS:~/environments/my_env$"
   ]
  },
  {
   "cell_type": "markdown",
   "id": "bc9b0462-d2ed-4fc7-91ec-cf02b4551d40",
   "metadata": {},
   "source": [
    "#### Check the output file and copy it to the Windows home directory"
   ]
  },
  {
   "cell_type": "code",
   "execution_count": null,
   "id": "ac36297c-ef71-4fb7-9350-ca18b3090bb8",
   "metadata": {},
   "outputs": [],
   "source": [
    "(my_env) eyamrog@RogLet-ASUS:~/environments/my_env$ ls -la\n",
    "total 68\n",
    "drwxr-xr-x 6 eyamrog eyamrog  4096 Aug 20 15:06 .\n",
    "drwxr-xr-x 3 eyamrog eyamrog  4096 Aug 17 17:28 ..\n",
    "-rwxr-xr-x 1 eyamrog eyamrog  1984 Aug 20 15:03 CL_ChatGPT_ERPP.py\n",
    "drwxr-xr-x 2 eyamrog eyamrog  4096 Aug 20 10:50 bin\n",
    "drwxr-xr-x 2 eyamrog eyamrog  4096 Aug 17 13:28 include\n",
    "drwxr-xr-x 3 eyamrog eyamrog  4096 Aug 17 13:28 lib\n",
    "lrwxrwxrwx 1 eyamrog eyamrog     3 Aug 17 13:28 lib64 -> lib\n",
    "-rw-r--r-- 1 eyamrog eyamrog  3183 Aug 20 15:07 monte_mor.txt\n",
    "-rw-r--r-- 1 eyamrog eyamrog    71 Aug 17 13:28 pyvenv.cfg\n",
    "drwxr-xr-x 3 eyamrog eyamrog  4096 Aug 20 10:50 share\n",
    "(my_env) eyamrog@RogLet-ASUS:~/environments/my_env$ cp monte_mor.txt /mnt/c/Users/eyamr/.\n",
    "(my_env) eyamrog@RogLet-ASUS:~/environments/my_env$ deactivate\n",
    "eyamrog@RogLet-ASUS:~/environments/my_env$ cd\n",
    "eyamrog@RogLet-ASUS:~$"
   ]
  },
  {
   "cell_type": "markdown",
   "id": "ba649028-f1c6-4108-ad76-23dfa66e6567",
   "metadata": {},
   "source": [
    "- The revised paragraphs can be fine-tuned as needed\n",
    "- Keep both the original document and the revised document as data for the mentioned research project"
   ]
  },
  {
   "cell_type": "markdown",
   "id": "b1c3d830-382f-4778-b7fc-d81a2d8dad3b",
   "metadata": {},
   "source": [
    "#### Sample output file\n",
    "- [Here](https://github.com/eyamrog/chatgpt_erpp/blob/main/monte_mor.txt) you can find a sample output file"
   ]
  },
  {
   "cell_type": "markdown",
   "id": "4e259fcd-06bf-49e4-a834-7b2a4645719d",
   "metadata": {},
   "source": [
    "## Using Python over Jupyter Notebook over Anaconda Distribution\n",
    "[Anaconda](https://www.anaconda.com/) pioneered in promoting Python into business data analytics and provides one of the best-known Python distributions to date."
   ]
  },
  {
   "cell_type": "markdown",
   "id": "a39c8771-db4b-4c05-95a4-6181e8a589d4",
   "metadata": {},
   "source": [
    "### Introduction to Jupyter Notebooks\n",
    "Think [Jupyter Notebooks](https://jupyter.org/) as computational versions of notebooks reserchers use to note down details of their experiments. This document you are reading is a Jupyter Notebook. Jupyter is an acronym that stands for Julia, Python and R, the three languages for which it was initially designed.\n",
    "\n",
    "It combines computer code with descriptive elements and is widely used among Data Scientists for prototyping and demonstrating solutions. It could also be useful in our practice in Corpus Linguistics to develop tools and knowledge objects that can be easily shared.\n",
    "\n",
    "You can write text in 'markdown' cells like this very one you are reading and you can run code and see the resulting output in 'code' cells like the following one:"
   ]
  },
  {
   "cell_type": "code",
   "execution_count": 1,
   "id": "76dbcb6c-0606-4560-97ef-12ffce5a4aba",
   "metadata": {
    "tags": []
   },
   "outputs": [
    {
     "name": "stdout",
     "output_type": "stream",
     "text": [
      "Hello world!\n"
     ]
    }
   ],
   "source": [
    "print('Hello world!')"
   ]
  },
  {
   "cell_type": "markdown",
   "id": "1353c506-a897-4a56-ae01-728965f26b08",
   "metadata": {
    "tags": []
   },
   "source": [
    "To run a cell, click on it and press (Shift+Enter). If it is a 'markdown' cell, it will be rendered. If it is a 'code' cell, the code in it will be executed."
   ]
  },
  {
   "cell_type": "markdown",
   "id": "ae118d9a-a6d7-4694-b8f8-5b77f8dafdba",
   "metadata": {},
   "source": [
    "### Installing Anaconda Distribution"
   ]
  },
  {
   "cell_type": "markdown",
   "id": "a75a33ed-f9f0-47bc-bd0c-05fd3ea7d6f4",
   "metadata": {},
   "source": [
    "- [Here](https://anaconda.cloud/sign-up) you can sign up to an account\n",
    "- [Here](https://www.anaconda.com/download#downloads) you can download an installer for Windows, Mac or Linux\n",
    "- Follow this [installation procedure](https://docs.anaconda.com/free/anaconda/install/)"
   ]
  },
  {
   "cell_type": "markdown",
   "id": "3e9f73f3-ab7a-4706-bbd4-fdacd1a5da66",
   "metadata": {},
   "source": [
    "### Start Anaconda Navigator"
   ]
  },
  {
   "cell_type": "markdown",
   "id": "f77b4ca5-16ac-44e6-80e1-881f0de171bf",
   "metadata": {},
   "source": [
    "The Anaconda Distribution provides a graphical user interface called Anaconda Navigator for the conda package and environment manager.\n",
    "- Go to [Getting started with Navigator](https://docs.anaconda.com/free/navigator/getting-started/#), scroll down to 'Starting Navigator' and follow the procedure to start Anaconda Navigator"
   ]
  },
  {
   "cell_type": "markdown",
   "id": "021ec4cb-4930-4f0e-8194-83d42ba3fd9b",
   "metadata": {},
   "source": [
    "### Setting up a Python virtual environment"
   ]
  },
  {
   "cell_type": "markdown",
   "id": "58b89ec7-89a6-4e7b-9ef6-21ed15701503",
   "metadata": {},
   "source": [
    "The same concept of virtual environments explained in the previous section is applicable here.\n",
    "- Create an environment following the procedures on [Managing environments](https://docs.anaconda.com/free/navigator/tutorials/manage-environments/). An appropriate name can be chosen for the environment such as 'Env20230812'."
   ]
  },
  {
   "cell_type": "markdown",
   "id": "ca84d728-dc34-4f62-83ce-bd40e326e47a",
   "metadata": {},
   "source": [
    "### Using the Jupyter Notebook 'CL_ChatGPT_ERPP-single_cell.ipynb' to improve ERPP and collect data"
   ]
  },
  {
   "cell_type": "markdown",
   "id": "37658ab2-2ebb-42e2-bd90-6c953cd8171c",
   "metadata": {},
   "source": [
    "#### Obtain the Jupyter Notebook"
   ]
  },
  {
   "cell_type": "markdown",
   "id": "40b8840a-8194-4c0f-b267-c777161be888",
   "metadata": {},
   "source": [
    "- Obtain the Jupyter Notebook from [here](https://github.com/eyamrog/chatgpt_erpp/blob/main/CL_ChatGPT_ERPP-single_cell.ipynb)\n",
    "- Save it to a folder of your choice\n",
    "\n",
    "Note: You can also use an equivalent, more didactic version of the notebook, that can be downloaded from [here](https://github.com/eyamrog/chatgpt_erpp/blob/main/CL_ChatGPT_ERPP.ipynb)"
   ]
  },
  {
   "cell_type": "markdown",
   "id": "e3926199-71fb-4b09-984d-7ebc41706c4d",
   "metadata": {},
   "source": [
    "#### Select the Python environment and install the required modules"
   ]
  },
  {
   "cell_type": "markdown",
   "id": "8b036867-8739-4111-91d8-27fae0715a79",
   "metadata": {},
   "source": [
    "Follow the procedures on [Managing packages](https://docs.anaconda.com/free/navigator/tutorials/manage-packages/) to install the following packages into the environment:\n",
    "- openai\n",
    "- ipython"
   ]
  },
  {
   "cell_type": "markdown",
   "id": "e6029c2a-2d70-4bf4-b3b4-983f3c0634ec",
   "metadata": {},
   "source": [
    "#### Start JupyterLab and run the notebook"
   ]
  },
  {
   "cell_type": "markdown",
   "id": "a16ca1fd-1ea9-4e20-8d0c-dbf8e3c1641b",
   "metadata": {},
   "source": [
    "- Go to the 'Home' page by clicking on 'Home' on the left menu\n",
    "- Change the Python environment from 'base (root)' to the environment that has been created on the drop-down menu at the top of the tile pannel\n",
    "- Click on 'Launch' on the JupyterLab tile. JupyterLab will start on a tab of your web browser\n",
    "- Watch the tutorial [How to Use JupyterLab](https://youtu.be/A5YyoCKxEOU?si=N_FqIeoUNo61eE0A) from 1:45 on for basic learning on how to run a Jupyter Notebook\n",
    "- On the JupyterLab tab, go to the 'Folder' page by clicking on the folder icon on the left menu, locate the notebook and double-click on it to open\n",
    "- Click of the code cell on the notebook and press (Shift+Enter) to have the code in it executed\n",
    "- Enter one paragraph at a time. Be careful with 'new lines' hidden in the paragraph when copying and pasting text\n",
    "- Enter an empty line when done\n",
    "- The revised paragraphs can be fine-tuned as needed\n",
    "- Keep both the original document and the revised document as data for the mentioned research project"
   ]
  },
  {
   "cell_type": "markdown",
   "id": "8bf7818e-350e-44d2-8b7f-f9469e887d68",
   "metadata": {},
   "source": [
    "#### Sample output file\n",
    "- [Here](https://github.com/eyamrog/chatgpt_erpp/blob/main/monte_mor.txt) you can find a sample output file"
   ]
  }
 ],
 "metadata": {
  "kernelspec": {
   "display_name": "Python 3 (ipykernel)",
   "language": "python",
   "name": "python3"
  },
  "language_info": {
   "codemirror_mode": {
    "name": "ipython",
    "version": 3
   },
   "file_extension": ".py",
   "mimetype": "text/x-python",
   "name": "python",
   "nbconvert_exporter": "python",
   "pygments_lexer": "ipython3",
   "version": "3.10.12"
  }
 },
 "nbformat": 4,
 "nbformat_minor": 5
}

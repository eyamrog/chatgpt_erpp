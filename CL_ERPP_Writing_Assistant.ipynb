{
 "cells": [
  {
   "cell_type": "markdown",
   "id": "810d9f10-ec19-4b09-8f90-e983e460b319",
   "metadata": {},
   "source": [
    "<center>\n",
    "<img src=\"https://laelgelcpublic.s3.sa-east-1.amazonaws.com/lael_50_years_narrow_white.png.no_years.400px_96dpi.png\" width=\"300\" alt=\"LAEL 50 years logo\">\n",
    "<h3>APPLIED LINGUISTICS GRADUATE PROGRAMME (LAEL)</h3>\n",
    "</center>\n",
    "<hr>"
   ]
  },
  {
   "cell_type": "markdown",
   "id": "888c2c96-2fc3-4a1a-995b-c388036a2a15",
   "metadata": {},
   "source": [
    "# Using ChatGPT as a writing assistant of English for Research Publication Purposes (ERPP)"
   ]
  },
  {
   "cell_type": "markdown",
   "id": "7a9c2af7-9fc1-4f51-a4f5-2ed915b93039",
   "metadata": {},
   "source": [
    "## Importing the required libraries"
   ]
  },
  {
   "cell_type": "code",
   "execution_count": 1,
   "id": "1b4a8657-0245-4eaf-b11f-233891dc8849",
   "metadata": {},
   "outputs": [],
   "source": [
    "import openai\n",
    "import pandas as pd\n",
    "from os import environ\n",
    "import datetime as dt\n",
    "from google.cloud import translate\n",
    "from IPython.display import clear_output"
   ]
  },
  {
   "cell_type": "markdown",
   "id": "3acb712a-9e8d-488c-a1ea-d06db3f68a56",
   "metadata": {},
   "source": [
    "## Setting the required environment variables in the environment"
   ]
  },
  {
   "cell_type": "markdown",
   "id": "6256e6a2-529d-4d08-b491-c36e4be1ab22",
   "metadata": {},
   "source": [
    "Please refer to [Setting environment variables](https://docs.conda.io/projects/conda/en/latest/user-guide/tasks/manage-environments.html#setting-environment-variables) on [Managing environments](https://docs.conda.io/projects/conda/en/latest/user-guide/tasks/manage-environments.html#).\n",
    "\n",
    "Note: Do **not** place the value of the variables between ' ' or \" \"."
   ]
  },
  {
   "cell_type": "code",
   "execution_count": null,
   "id": "10745631-6187-4083-8f0a-45766f0653c9",
   "metadata": {},
   "outputs": [],
   "source": [
    "(base) C:\\Users\\eyamr>conda env list\n",
    "# conda environments:\n",
    "#\n",
    "base                  *  C:\\Users\\eyamr\\anaconda3\n",
    "Env20240401              C:\\Users\\eyamr\\anaconda3\\envs\\Env20240401\n",
    "\n",
    "\n",
    "(base) C:\\Users\\eyamr>conda activate Env20240401\n",
    "\n",
    "(Env20240401) C:\\Users\\eyamr>conda env config vars list\n",
    "\n",
    "(Env20240401) C:\\Users\\eyamr>conda env config vars set GOOGLE_CLOUD_PROJECT=<omitted>\n",
    "To make your changes take effect please reactivate your environment\n",
    "\n",
    "(Env20240401) C:\\Users\\eyamr>conda env config vars set OPENAI_API_KEY=<omitted>\n",
    "To make your changes take effect please reactivate your environment\n",
    "\n",
    "(Env20240401) C:\\Users\\eyamr>conda activate Env20240401\n",
    "\n",
    "(Env20240401) C:\\Users\\eyamr>conda env config vars list\n",
    "GOOGLE_CLOUD_PROJECT = <omitted>\n",
    "OPENAI_API_KEY = <omitted>\n",
    "\n",
    "(Env20240401) C:\\Users\\eyamr>conda deactivate\n",
    "\n",
    "(base) C:\\Users\\eyamr>"
   ]
  },
  {
   "cell_type": "markdown",
   "id": "bfbdcb83-4f20-4fcc-81be-b79d919f0e05",
   "metadata": {},
   "source": [
    "## Importing the required programme variables from the environment"
   ]
  },
  {
   "cell_type": "code",
   "execution_count": 2,
   "id": "58c170f9-c4e4-41bf-be38-798c0e36aeed",
   "metadata": {},
   "outputs": [],
   "source": [
    "openai.api_key = environ.get('OPENAI_API_KEY', '')\n",
    "assert openai.api_key\n",
    "GOOGLE_CLOUD_PROJECT = environ.get('GOOGLE_CLOUD_PROJECT', '')\n",
    "assert GOOGLE_CLOUD_PROJECT\n",
    "GOOGLE_CLOUD_PROJECT = str(GOOGLE_CLOUD_PROJECT)\n",
    "PARENT = f'projects/{GOOGLE_CLOUD_PROJECT}'\n",
    "#print(openai.api_key)\n",
    "#print(GOOGLE_CLOUD_PROJECT)\n",
    "#print(PARENT)"
   ]
  },
  {
   "cell_type": "markdown",
   "id": "d90f419e-d55d-4fde-befd-3bac85506783",
   "metadata": {},
   "source": [
    "## Defining a function to translate passages with Google Cloud Translation API"
   ]
  },
  {
   "cell_type": "code",
   "execution_count": 3,
   "id": "8cc4c45d-e81f-4a78-891d-7ed1433a7657",
   "metadata": {},
   "outputs": [],
   "source": [
    "def translate_text(text: str, target_language_code: str) -> translate.Translation:\n",
    "    client = translate.TranslationServiceClient()\n",
    "    response = client.translate_text(\n",
    "        parent = PARENT,\n",
    "        contents = [text],\n",
    "        target_language_code = target_language_code\n",
    "    )\n",
    "    return response.translations[0]"
   ]
  },
  {
   "cell_type": "markdown",
   "id": "e9a92f39-e319-465a-bcbd-6cafee548a8b",
   "metadata": {},
   "source": [
    "## Defining a function to query ChatGPT"
   ]
  },
  {
   "cell_type": "code",
   "execution_count": 4,
   "id": "a1facf05-20f9-4c27-866d-39e2d0642f3c",
   "metadata": {},
   "outputs": [],
   "source": [
    "def get_completion(prompt, model = 'gpt-3.5-turbo'):\n",
    "    client = openai.OpenAI()\n",
    "    messages = [{'role': 'user', 'content': prompt}]\n",
    "    response = client.chat.completions.create(\n",
    "        model = model,\n",
    "        messages = messages,\n",
    "        temperature = 0\n",
    "    )\n",
    "    return response.choices[0].message.content"
   ]
  },
  {
   "cell_type": "markdown",
   "id": "002841de-71a4-47bf-b0d1-d53b749395d7",
   "metadata": {},
   "source": [
    "## Collecting input"
   ]
  },
  {
   "cell_type": "code",
   "execution_count": 5,
   "id": "6fd2d127-3dc9-4c5c-9efa-2a5f77623e2e",
   "metadata": {},
   "outputs": [
    {
     "name": "stdout",
     "output_type": "stream",
     "text": [
      "1 passages to process.\n"
     ]
    }
   ],
   "source": [
    "end = False\n",
    "while end == False:\n",
    "    filename = str(input('Enter the input full filename: '))\n",
    "    if filename != '':\n",
    "        try:\n",
    "            with open(filename, 'r', encoding = 'utf8', newline='\\n') as responses:\n",
    "                print('The file exists.')\n",
    "            input_file = filename\n",
    "            output_file = input_file + '.out.txt'\n",
    "            output_file_json = input_file + '.out.json'\n",
    "            output_file_excel = input_file + '.out.xlsx'\n",
    "            end = True\n",
    "            clear_output()\n",
    "        except FileNotFoundError:\n",
    "            print('No such file.')\n",
    "df_text = pd.read_table(input_file, sep = '\\\\n', header = None, engine = 'python')\n",
    "df_text = df_text.rename(columns = {0: 'notes'})\n",
    "df_text.at[0, 'composed'] = 1\n",
    "df_text = df_text.astype('object')\n",
    "print(str(len(df_text)) + ' passages to process.')"
   ]
  },
  {
   "cell_type": "code",
   "execution_count": null,
   "id": "b9f761e1-fbd2-4946-8913-c226a62dbff5",
   "metadata": {},
   "outputs": [],
   "source": [
    "df_text.dtypes"
   ]
  },
  {
   "cell_type": "markdown",
   "id": "5d2673b2-53fe-45c8-8fae-f9bef3c5cbbe",
   "metadata": {},
   "source": [
    "## Prompting ChatGPT"
   ]
  },
  {
   "cell_type": "markdown",
   "id": "dfb65dca-9fee-4feb-b075-d4d9ff9b9b89",
   "metadata": {},
   "source": [
    "### Prompt"
   ]
  },
  {
   "cell_type": "markdown",
   "id": "8c879411-1708-4ef7-8e7b-be7e256d02db",
   "metadata": {},
   "source": [
    "Dear ChatGPT, please write a piece of academic text based on the following notes considering the generally accepted standards of English for Academic Purposes. It is very important that you are as objective, scientific and non-metaphorical as you can be.\\n"
   ]
  },
  {
   "cell_type": "code",
   "execution_count": 6,
   "id": "d99a4d13-83a6-4a1e-82c8-05d37b56e37b",
   "metadata": {},
   "outputs": [
    {
     "name": "stdout",
     "output_type": "stream",
     "text": [
      "Job completed!\n"
     ]
    },
    {
     "data": {
      "text/html": [
       "<div>\n",
       "<style scoped>\n",
       "    .dataframe tbody tr th:only-of-type {\n",
       "        vertical-align: middle;\n",
       "    }\n",
       "\n",
       "    .dataframe tbody tr th {\n",
       "        vertical-align: top;\n",
       "    }\n",
       "\n",
       "    .dataframe thead th {\n",
       "        text-align: right;\n",
       "    }\n",
       "</style>\n",
       "<table border=\"1\" class=\"dataframe\">\n",
       "  <thead>\n",
       "    <tr style=\"text-align: right;\">\n",
       "      <th></th>\n",
       "      <th>notes</th>\n",
       "      <th>composed</th>\n",
       "    </tr>\n",
       "  </thead>\n",
       "  <tbody>\n",
       "    <tr>\n",
       "      <th>0</th>\n",
       "      <td>In the history of Corpus Linguists, a number o...</td>\n",
       "      <td>In the field of Corpus Linguistics, various sc...</td>\n",
       "    </tr>\n",
       "  </tbody>\n",
       "</table>\n",
       "</div>"
      ],
      "text/plain": [
       "                                               notes  \\\n",
       "0  In the history of Corpus Linguists, a number o...   \n",
       "\n",
       "                                            composed  \n",
       "0  In the field of Corpus Linguistics, various sc...  "
      ]
     },
     "execution_count": 6,
     "metadata": {},
     "output_type": "execute_result"
    }
   ],
   "source": [
    "with open(output_file, 'a', encoding = 'utf8', newline='\\n') as responses:\n",
    "    responses.write('ChatGPT ERPP writing assistant' + '\\n\\n')\n",
    "    responses.write('Start time: ' + str(dt.datetime.now()) + '\\n\\n')\n",
    "    prompt = 'Dear ChatGPT, please write a piece of academic text based on the following notes considering the generally accepted standards of English for Academic Purposes. It is very important that you are as objective, scientific and non-metaphorical as you can be.\\n'\n",
    "    for index, row in df_text.iterrows():\n",
    "        responses.write('Notes ' + str(index) + ':\\n' + row['notes'] + '\\n\\n')\n",
    "        print('Notes ' + str(index) + ':\\n' + row['notes'])\n",
    "        query = get_completion(prompt + row['notes'])\n",
    "        df_text.at[index, 'composed'] = query\n",
    "        responses.write('Composed ' + str(index) + ':\\n' + query + '\\n\\n')\n",
    "        print('\\nComposed ' + str(index) + ':\\n' + query)\n",
    "        clear_output(wait = True)\n",
    "    responses.write('End time: ' + str(dt.datetime.now()) + '\\n\\n')\n",
    "print('Job completed!')\n",
    "df_text.to_json(output_file_json)\n",
    "writer = pd.ExcelWriter(output_file_excel)\n",
    "df_text.to_excel(writer, sheet_name = 'text')\n",
    "writer.close()\n",
    "df_text.head()"
   ]
  },
  {
   "cell_type": "code",
   "execution_count": null,
   "id": "92d8a139-ac93-4f47-a3d7-71f52d9f7dd5",
   "metadata": {},
   "outputs": [],
   "source": []
  }
 ],
 "metadata": {
  "kernelspec": {
   "display_name": "Python 3 (ipykernel)",
   "language": "python",
   "name": "python3"
  },
  "language_info": {
   "codemirror_mode": {
    "name": "ipython",
    "version": 3
   },
   "file_extension": ".py",
   "mimetype": "text/x-python",
   "name": "python",
   "nbconvert_exporter": "python",
   "pygments_lexer": "ipython3",
   "version": "3.11.8"
  }
 },
 "nbformat": 4,
 "nbformat_minor": 5
}

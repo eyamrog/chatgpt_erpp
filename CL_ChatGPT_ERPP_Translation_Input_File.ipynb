{
 "cells": [
  {
   "cell_type": "markdown",
   "id": "810d9f10-ec19-4b09-8f90-e983e460b319",
   "metadata": {},
   "source": [
    "<center>\n",
    "<img src=\"http://corpuslg.org/lael_english/wp-content/uploads/2020/04/lael_50_years_narrow_white.png.400px_300dpi.png\" width=\"300\" alt=\"LAEL 50 years logo\">\n",
    "<h3>APPLIED LINGUISTICS GRADUATE PROGRAMME (LAEL)</h3>\n",
    "</center>\n",
    "<hr>"
   ]
  },
  {
   "cell_type": "markdown",
   "id": "888c2c96-2fc3-4a1a-995b-c388036a2a15",
   "metadata": {},
   "source": [
    "# Using ChatGPT to improve the writing in English for Research Publication Purposes (ERPP)\n",
    "Execute the cells in sequence with 'Shift+Enter'."
   ]
  },
  {
   "cell_type": "markdown",
   "id": "c5ea7438-b6bb-492b-9021-9f5b613efc3d",
   "metadata": {},
   "source": [
    "## Preparing the input file\n",
    "1. Format your input file as plain text (.txt) copying the passages from the original manuscript into it;\n",
    "2. Exclude titles, subtitles, captions and other portions of text that are not applicable for improvement;\n",
    "3. Avoid joining multiple paragraphs into a larger one because ChatGPT will consider the content to produce a synthesised response and you might lose details."
   ]
  },
  {
   "cell_type": "markdown",
   "id": "5f75328c-dfd9-44ea-b038-03c4ccaadd4d",
   "metadata": {},
   "source": [
    "## Importing the required libraries"
   ]
  },
  {
   "cell_type": "code",
   "execution_count": 1,
   "id": "18b36225-5765-43fb-875f-836ac50a6c8b",
   "metadata": {
    "tags": []
   },
   "outputs": [],
   "source": [
    "import openai\n",
    "import pandas as pd\n",
    "from os import environ\n",
    "import datetime as dt\n",
    "from google.cloud import translate\n",
    "from IPython.display import clear_output"
   ]
  },
  {
   "cell_type": "markdown",
   "id": "d31429d4-5145-4d62-ba53-10d10c1d607c",
   "metadata": {},
   "source": [
    "## Importing the required programme variables from the environment"
   ]
  },
  {
   "cell_type": "code",
   "execution_count": 2,
   "id": "2e512968-2d8b-4399-a2e6-5578835b2e64",
   "metadata": {
    "tags": []
   },
   "outputs": [],
   "source": [
    "openai.api_key = environ.get('OPENAI_API_KEY', '')\n",
    "assert openai.api_key\n",
    "PROJECT_ID = environ.get('PROJECT_ID', '')\n",
    "assert PROJECT_ID\n",
    "PROJECT_ID = str(PROJECT_ID)\n",
    "PARENT = f'projects/{PROJECT_ID}'\n",
    "#print(openai.api_key)\n",
    "#print(PROJECT_ID)\n",
    "#print(PARENT)"
   ]
  },
  {
   "cell_type": "markdown",
   "id": "7a9c2af7-9fc1-4f51-a4f5-2ed915b93039",
   "metadata": {},
   "source": [
    "## Defining a function to translate passages with Google Cloud Translation API"
   ]
  },
  {
   "cell_type": "code",
   "execution_count": 3,
   "id": "494cddeb-7948-49c6-963c-2d48d4e4be3b",
   "metadata": {
    "tags": []
   },
   "outputs": [],
   "source": [
    "def translate_text(text: str, target_language_code: str) -> translate.Translation:\n",
    "    client = translate.TranslationServiceClient()\n",
    "    response = client.translate_text(\n",
    "        parent = PARENT,\n",
    "        contents = [text],\n",
    "        target_language_code = target_language_code\n",
    "    )\n",
    "    return response.translations[0]"
   ]
  },
  {
   "cell_type": "markdown",
   "id": "d339a5e6-716c-48ab-b7ee-bb3492b2eb60",
   "metadata": {},
   "source": [
    "## Defining a function to query ChatGPT"
   ]
  },
  {
   "cell_type": "code",
   "execution_count": 4,
   "id": "338c22eb-d311-4a52-8af7-7d8d435327dc",
   "metadata": {
    "tags": []
   },
   "outputs": [],
   "source": [
    "def get_completion(prompt, model = 'gpt-3.5-turbo'):\n",
    "    messages = [{'role': 'user', 'content': prompt}]\n",
    "    response = openai.ChatCompletion.create(\n",
    "        model = model,\n",
    "        messages = messages,\n",
    "        temperature = 0\n",
    "    )\n",
    "    return response.choices[0].message['content']"
   ]
  },
  {
   "cell_type": "markdown",
   "id": "e49b0164-cadf-41b8-a7b7-6e8e493b5b10",
   "metadata": {},
   "source": [
    "## Collecting input"
   ]
  },
  {
   "cell_type": "code",
   "execution_count": 5,
   "id": "1efc3d03-e3e4-4069-82f7-b699ac7c7073",
   "metadata": {
    "tags": []
   },
   "outputs": [
    {
     "name": "stdout",
     "output_type": "stream",
     "text": [
      "63 passages to process.\n"
     ]
    }
   ],
   "source": [
    "end = False\n",
    "while end == False:\n",
    "    filename = str(input('Enter the input full filename: '))\n",
    "    if filename != '':\n",
    "        try:\n",
    "            with open(filename, 'r', encoding = 'utf8') as responses:\n",
    "                print('The file exists.')\n",
    "            input_file = filename\n",
    "            output_file = input_file + '.out.txt'\n",
    "            output_file_json = input_file + '.out.json'\n",
    "            output_file_excel = input_file + '.out.xlsx'\n",
    "            end = True\n",
    "            clear_output()\n",
    "        except FileNotFoundError:\n",
    "            print('No such file.')\n",
    "df_text = pd.read_table(input_file, sep = '\\\\n', header = None, engine = 'python')\n",
    "df_text = df_text.rename(columns = {0: 'text'})\n",
    "print(str(len(df_text)) + ' passages to process.')"
   ]
  },
  {
   "cell_type": "markdown",
   "id": "eccb6022-e719-466c-a5a8-bc3d54ca10b1",
   "metadata": {},
   "source": [
    "## Prompting ChatGPT\n",
    "Note: If you get an error message indicating '**RemoteDisconnected**' just re-execute the cell with 'Shift+Enter'."
   ]
  },
  {
   "cell_type": "markdown",
   "id": "7544eb7e-d52f-4b55-82a4-1e2aa9f7dfed",
   "metadata": {},
   "source": [
    "### ChatGPT prompts\n",
    "- This is the one being currently used\n",
    "> 'Dear ChatGPT, would it be possible for you to improve the writing of certain passages of a research article considering the generally accepted standards of English for Academic Purposes? I am going to provide you with a passage at a time. OK?'\n",
    "- This prompt explicitly requests ChatGPT to keep each improved passage within a single paragraph but ChatGPT does not keep to it\n",
    "> 'Dear ChatGPT, would it be possible for you to improve the writing of certain passages of a research article considering the generally accepted standards of English for Academic Purposes? Please keep each improved passage within a single paragraph - do not split it into new paragraphs. I am going to provide you with a paragraph at a time. OK?'"
   ]
  },
  {
   "cell_type": "code",
   "execution_count": 6,
   "id": "6472252e-57c8-4bc2-8c67-bb39cdfc66d2",
   "metadata": {
    "tags": []
   },
   "outputs": [
    {
     "name": "stdout",
     "output_type": "stream",
     "text": [
      "ChatGPT revision of writing in ERPP\n",
      "\n",
      "Dear ChatGPT, would it be possible for you to improve the writing of certain passages of a research article considering the generally accepted standards of English for Academic Purposes? I am going to provide you with a passage at a time. OK?\n",
      "\n",
      "Of course! I'd be happy to help you improve the writing of your research article passages. Please provide me with the passage you'd like me to work on, and I'll do my best to enhance it according to the accepted standards of English for Academic Purposes.\n",
      "\n",
      "\n"
     ]
    }
   ],
   "source": [
    "with open(output_file, 'a', encoding = 'utf8') as responses:\n",
    "    responses.write('ChatGPT revision of writing in ERPP' + '\\n\\n')\n",
    "    prompt = 'Dear ChatGPT, would it be possible for you to improve the writing of certain passages of a research article considering the generally accepted standards of English for Academic Purposes? I am going to provide you with a passage at a time. OK?'    \n",
    "    responses.write(prompt + '\\n\\n')\n",
    "    query = get_completion(prompt)\n",
    "    responses.write(query + '\\n\\n')\n",
    "with open(output_file, 'r', encoding = 'utf8') as responses:\n",
    "    print(responses.read())"
   ]
  },
  {
   "cell_type": "markdown",
   "id": "6975ca1b-4f0f-429d-b3fe-a6d1ca2bba80",
   "metadata": {},
   "source": [
    "## Getting improved passages from ChatGPT\n",
    "1. The programme will display each paragraph being processed;\n",
    "3. Move the output files to a safe location.\n",
    "\n",
    "Note: The specification of 'utf8' encoding when opening the output file prevents the code from breaking (**UnicodeEncodeError**) when a passage contains non-printable unicode characters like the ones in this fragment 'variáveis ​​e também' (U+200B). However, in case of error, inspect the passage with websites like [View non-printable unicode characters](https://www.soscisurvey.de/tools/view-chars.php)."
   ]
  },
  {
   "cell_type": "markdown",
   "id": "06d05c46-bdf4-4706-8545-e32f79b7aa36",
   "metadata": {
    "tags": []
   },
   "source": [
    "### Using Google Cloud Translation API before handing over to ChatGPT\n",
    "Use this option if you wrote your manuscript in any other language but English."
   ]
  },
  {
   "cell_type": "code",
   "execution_count": 7,
   "id": "d35624e5-50c0-4fd6-8a51-feb9839b594a",
   "metadata": {
    "tags": []
   },
   "outputs": [
    {
     "name": "stdout",
     "output_type": "stream",
     "text": [
      "Job completed!\n"
     ]
    },
    {
     "data": {
      "text/html": [
       "<div>\n",
       "<style scoped>\n",
       "    .dataframe tbody tr th:only-of-type {\n",
       "        vertical-align: middle;\n",
       "    }\n",
       "\n",
       "    .dataframe tbody tr th {\n",
       "        vertical-align: top;\n",
       "    }\n",
       "\n",
       "    .dataframe thead th {\n",
       "        text-align: right;\n",
       "    }\n",
       "</style>\n",
       "<table border=\"1\" class=\"dataframe\">\n",
       "  <thead>\n",
       "    <tr style=\"text-align: right;\">\n",
       "      <th></th>\n",
       "      <th>text</th>\n",
       "      <th>text_translated</th>\n",
       "      <th>text_improved</th>\n",
       "    </tr>\n",
       "  </thead>\n",
       "  <tbody>\n",
       "    <tr>\n",
       "      <th>0</th>\n",
       "      <td>O recente advento de uma nova geração de ferra...</td>\n",
       "      <td>The recent advent of a new generation of Artif...</td>\n",
       "      <td>The recent emergence of AI-based tools like Ch...</td>\n",
       "    </tr>\n",
       "    <tr>\n",
       "      <th>1</th>\n",
       "      <td>A adoção de tecnologias de Inteligência Artifi...</td>\n",
       "      <td>The adoption of Artificial Intelligence (AI) t...</td>\n",
       "      <td>These language models, such as OpenAI's GPT-3,...</td>\n",
       "    </tr>\n",
       "    <tr>\n",
       "      <th>2</th>\n",
       "      <td>Considerando a questão de pesquisa ‘Qual é a r...</td>\n",
       "      <td>Considering the research question &amp;#39;What is...</td>\n",
       "      <td>The purpose of this study is to investigate th...</td>\n",
       "    </tr>\n",
       "    <tr>\n",
       "      <th>3</th>\n",
       "      <td>Os achados produzidos pelo projeto de pesquisa...</td>\n",
       "      <td>The findings produced by the proposed research...</td>\n",
       "      <td>The proposed research project aims to investig...</td>\n",
       "    </tr>\n",
       "    <tr>\n",
       "      <th>4</th>\n",
       "      <td>O projeto contribuirá para o desenvolvimento d...</td>\n",
       "      <td>The project will contribute to the development...</td>\n",
       "      <td>The individual involved in the project will pl...</td>\n",
       "    </tr>\n",
       "  </tbody>\n",
       "</table>\n",
       "</div>"
      ],
      "text/plain": [
       "                                                text  \\\n",
       "0  O recente advento de uma nova geração de ferra...   \n",
       "1  A adoção de tecnologias de Inteligência Artifi...   \n",
       "2  Considerando a questão de pesquisa ‘Qual é a r...   \n",
       "3  Os achados produzidos pelo projeto de pesquisa...   \n",
       "4  O projeto contribuirá para o desenvolvimento d...   \n",
       "\n",
       "                                     text_translated  \\\n",
       "0  The recent advent of a new generation of Artif...   \n",
       "1  The adoption of Artificial Intelligence (AI) t...   \n",
       "2  Considering the research question &#39;What is...   \n",
       "3  The findings produced by the proposed research...   \n",
       "4  The project will contribute to the development...   \n",
       "\n",
       "                                       text_improved  \n",
       "0  The recent emergence of AI-based tools like Ch...  \n",
       "1  These language models, such as OpenAI's GPT-3,...  \n",
       "2  The purpose of this study is to investigate th...  \n",
       "3  The proposed research project aims to investig...  \n",
       "4  The individual involved in the project will pl...  "
      ]
     },
     "execution_count": 7,
     "metadata": {},
     "output_type": "execute_result"
    }
   ],
   "source": [
    "target_language = 'en'\n",
    "with open(output_file, 'a', encoding = 'utf8') as responses:\n",
    "    responses.write('Start time: ' + str(dt.datetime.now()) + '\\n\\n')\n",
    "    for index, row in df_text.iterrows():\n",
    "        responses.write('Passage ' + str(index) + ':\\n' + row['text'] + '\\n\\n')\n",
    "        print('Passage ' + str(index) + ':\\n' + row['text'])\n",
    "        translation = translate_text(row['text'], target_language)\n",
    "        source_language = translation.detected_language_code\n",
    "        translated_passage = translation.translated_text\n",
    "        df_text.at[index, 'text_translated'] = translated_passage\n",
    "        responses.write('Translated passage ' + str(index) + ' from (' + source_language + ')' + ':\\n' + translated_passage + '\\n\\n')\n",
    "        print('\\nTranslated passage ' + str(index) + ' from (' + source_language + ')' + ':\\n' + translated_passage)\n",
    "        query = get_completion(translated_passage)\n",
    "        df_text.at[index, 'text_improved'] = query\n",
    "        responses.write('Improved passage ' + str(index) + ':\\n' + query + '\\n\\n')\n",
    "        print('\\nImproved passage ' + str(index) + ':\\n' + query)\n",
    "        clear_output(wait = True)\n",
    "    responses.write('End time: ' + str(dt.datetime.now()) + '\\n\\n')\n",
    "print('Job completed!')\n",
    "df_text.to_json(output_file_json)\n",
    "writer = pd.ExcelWriter(output_file_excel)\n",
    "df_text.to_excel(writer, sheet_name = 'text')\n",
    "writer.close()\n",
    "df_text.head()"
   ]
  },
  {
   "cell_type": "markdown",
   "id": "eae7c5b0-d7b4-4c18-b335-f923cdc7caea",
   "metadata": {},
   "source": [
    "### Without Google Cloud Translation API\n",
    "Use this option if you wrote your manuscript in English."
   ]
  },
  {
   "cell_type": "code",
   "execution_count": null,
   "id": "a54903d2-cdf0-4794-8a07-b70e09a36843",
   "metadata": {
    "tags": []
   },
   "outputs": [],
   "source": [
    "with open(output_file, 'a', encoding = 'utf8') as responses:\n",
    "    responses.write('Start time: ' + str(dt.datetime.now()) + '\\n\\n')\n",
    "    for index, row in df_text.iterrows():\n",
    "        responses.write('Passage ' + str(index) + ':\\n' + row['text'] + '\\n\\n')\n",
    "        print('Passage ' + str(index) + ':\\n' + row['text'])\n",
    "        query = get_completion(row['text'])\n",
    "        df_text.at[index, 'text_improved'] = query\n",
    "        responses.write('Improved passage ' + str(index) + ':\\n' + query + '\\n\\n')\n",
    "        print('\\nImproved passage ' + str(index) + ':\\n' + query)\n",
    "        clear_output(wait = True)\n",
    "    responses.write('End time: ' + str(dt.datetime.now()) + '\\n\\n')\n",
    "print('Job completed!')\n",
    "df_text.to_json(output_file_json)\n",
    "writer = pd.ExcelWriter(output_file_excel)\n",
    "df_text.to_excel(writer, sheet_name = 'text')\n",
    "writer.close()\n",
    "df_text.head()"
   ]
  },
  {
   "cell_type": "code",
   "execution_count": null,
   "id": "89309c30-9597-4328-a7d3-99cc399deb19",
   "metadata": {},
   "outputs": [],
   "source": []
  }
 ],
 "metadata": {
  "kernelspec": {
   "display_name": "Python 3 (ipykernel)",
   "language": "python",
   "name": "python3"
  },
  "language_info": {
   "codemirror_mode": {
    "name": "ipython",
    "version": 3
   },
   "file_extension": ".py",
   "mimetype": "text/x-python",
   "name": "python",
   "nbconvert_exporter": "python",
   "pygments_lexer": "ipython3",
   "version": "3.10.12"
  }
 },
 "nbformat": 4,
 "nbformat_minor": 5
}

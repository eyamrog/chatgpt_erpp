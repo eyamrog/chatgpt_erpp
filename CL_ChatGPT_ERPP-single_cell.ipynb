{
 "cells": [
  {
   "cell_type": "markdown",
   "id": "810d9f10-ec19-4b09-8f90-e983e460b319",
   "metadata": {},
   "source": [
    "<center>\n",
    "<img src=\"https://laelgelcpublic.s3.sa-east-1.amazonaws.com/lael_50_years_narrow_white.png.no_years.400px_96dpi.png\" width=\"300\" alt=\"LAEL 50 years logo\">\n",
    "<h3>APPLIED LINGUISTICS GRADUATE PROGRAMME (LAEL)</h3>\n",
    "</center>\n",
    "<hr>"
   ]
  },
  {
   "cell_type": "markdown",
   "id": "888c2c96-2fc3-4a1a-995b-c388036a2a15",
   "metadata": {},
   "source": [
    "# Using ChatGPT to improve the writing in English for Research Publication Purposes (ERPP)\n",
    "1. If you get an error message indicating '**RemoteDisconnected**' just re-execute the programme with 'Shift+Enter'."
   ]
  },
  {
   "cell_type": "code",
   "execution_count": null,
   "id": "c5f942c8-73b7-4fb4-b295-b27ee66ae43c",
   "metadata": {
    "tags": []
   },
   "outputs": [],
   "source": [
    "# Defining a function to query ChatGPT\n",
    "import openai\n",
    "from IPython.display import clear_output\n",
    "\n",
    "def get_completion(prompt, model = 'gpt-3.5-turbo'):\n",
    "    client = openai.OpenAI()\n",
    "    messages = [{'role': 'user', 'content': prompt}]\n",
    "    response = client.chat.completions.create(\n",
    "        model = model,\n",
    "        messages = messages,\n",
    "        temperature = 0\n",
    "    )\n",
    "    return response.choices[0].message.content\n",
    "\n",
    "# Collecting input\n",
    "end = False\n",
    "openai.api_key = ''\n",
    "while end == False:\n",
    "    openai.api_key = str(input('Enter your OpenAI API key: '))\n",
    "    if openai.api_key != '':\n",
    "        end = True\n",
    "end = False\n",
    "filename = ''\n",
    "file = 'dummy.txt'\n",
    "while end == False:\n",
    "    filename = str(input('Enter the output filename without extension: '))\n",
    "    if filename != '':\n",
    "        file = filename + '.txt'\n",
    "        end = True\n",
    "        clear_output()\n",
    "\n",
    "# Prompting ChatGPT\n",
    "with open(file, 'a') as responses:\n",
    "    responses.write('ChatGPT revision of writing in ERPP' + '\\n\\n')\n",
    "    prompt = 'Dear ChatGPT, would it be possible for you to improve the writing of certain passages of a research article considering the generally accepted standards of English for Academic Purposes? I am going to provide you with a passage at a time. OK?'\n",
    "    responses.write(prompt + '\\n\\n')\n",
    "    query = get_completion(prompt)\n",
    "    responses.write(query + '\\n\\n')\n",
    "with open(file, 'r') as responses:\n",
    "    print(responses.read())\n",
    "\n",
    "# Getting improved passages from ChatGPT\n",
    "sequence = 1\n",
    "end = False\n",
    "passage = ''\n",
    "while end == False:\n",
    "    passage = str(input('Enter passage ' + str(sequence) + ': '))\n",
    "    if passage != '':\n",
    "        with open(file, 'a') as responses:\n",
    "            responses.write('Passage ' + str(sequence) + ':\\n' + passage + '\\n\\n')\n",
    "            query = get_completion(passage)\n",
    "            responses.write('Improved passage ' + str(sequence) + ':\\n' + query + '\\n\\n')\n",
    "            print('\\nImproved passage ' + str(sequence) + ':\\n' + query)\n",
    "            clear_output(wait = True)\n",
    "        sequence += 1\n",
    "    else:\n",
    "        end = True\n",
    "        clear_output()"
   ]
  }
 ],
 "metadata": {
  "kernelspec": {
   "display_name": "Python 3 (ipykernel)",
   "language": "python",
   "name": "python3"
  },
  "language_info": {
   "codemirror_mode": {
    "name": "ipython",
    "version": 3
   },
   "file_extension": ".py",
   "mimetype": "text/x-python",
   "name": "python",
   "nbconvert_exporter": "python",
   "pygments_lexer": "ipython3",
   "version": "3.11.8"
  }
 },
 "nbformat": 4,
 "nbformat_minor": 5
}

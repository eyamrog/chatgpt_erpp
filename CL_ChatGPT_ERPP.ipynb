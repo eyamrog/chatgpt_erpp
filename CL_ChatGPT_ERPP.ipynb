{
 "cells": [
  {
   "cell_type": "markdown",
   "id": "810d9f10-ec19-4b09-8f90-e983e460b319",
   "metadata": {},
   "source": [
    "<center>\n",
    "<img src=\"https://laelgelcpublic.s3.sa-east-1.amazonaws.com/lael_50_years_narrow_white.png.no_years.400px_96dpi.png\" width=\"300\" alt=\"LAEL 50 years logo\">\n",
    "<h3>APPLIED LINGUISTICS GRADUATE PROGRAMME (LAEL)</h3>\n",
    "</center>\n",
    "<hr>"
   ]
  },
  {
   "cell_type": "markdown",
   "id": "888c2c96-2fc3-4a1a-995b-c388036a2a15",
   "metadata": {},
   "source": [
    "# Using ChatGPT to improve the writing in English for Research Publication Purposes (ERPP)\n",
    "Execute the cells in sequence with 'Shift+Enter'"
   ]
  },
  {
   "cell_type": "markdown",
   "id": "7a9c2af7-9fc1-4f51-a4f5-2ed915b93039",
   "metadata": {},
   "source": [
    "## Defining a function to query ChatGPT"
   ]
  },
  {
   "cell_type": "code",
   "execution_count": null,
   "id": "18b36225-5765-43fb-875f-836ac50a6c8b",
   "metadata": {
    "tags": []
   },
   "outputs": [],
   "source": [
    "import openai\n",
    "from IPython.display import clear_output"
   ]
  },
  {
   "cell_type": "code",
   "execution_count": null,
   "id": "338c22eb-d311-4a52-8af7-7d8d435327dc",
   "metadata": {
    "tags": []
   },
   "outputs": [],
   "source": [
    "def get_completion(prompt, model = 'gpt-3.5-turbo'):\n",
    "    messages = [{'role': 'user', 'content': prompt}]\n",
    "    response = openai.ChatCompletion.create(\n",
    "        model = model,\n",
    "        messages = messages,\n",
    "        temperature = 0\n",
    "    )\n",
    "    return response.choices[0].message['content']"
   ]
  },
  {
   "cell_type": "markdown",
   "id": "e49b0164-cadf-41b8-a7b7-6e8e493b5b10",
   "metadata": {},
   "source": [
    "## Collecting input"
   ]
  },
  {
   "cell_type": "code",
   "execution_count": null,
   "id": "1efc3d03-e3e4-4069-82f7-b699ac7c7073",
   "metadata": {
    "tags": []
   },
   "outputs": [],
   "source": [
    "end = False\n",
    "openai.api_key = ''\n",
    "while end == False:\n",
    "    openai.api_key = str(input('Enter your OpenAI API key: '))\n",
    "    if openai.api_key != '':\n",
    "        end = True\n",
    "        clear_output()\n",
    "end = False\n",
    "filename = ''\n",
    "file = 'dummy.txt'\n",
    "while end == False:\n",
    "    filename = str(input('Enter the output filename without extension: '))\n",
    "    if filename != '':\n",
    "        file = filename + '.txt'\n",
    "        end = True\n",
    "        clear_output()"
   ]
  },
  {
   "cell_type": "markdown",
   "id": "eccb6022-e719-466c-a5a8-bc3d54ca10b1",
   "metadata": {},
   "source": [
    "## Prompting ChatGPT\n",
    "1. If you get an error message indicating '**RemoteDisconnected**' just re-execute the cell with 'Shift+Enter';\n",
    "2. For the sake of readability, the prompt is: 'Dear ChatGPT, would it be possible for you to improve the writing of certain passages of a research article considering the generally accepted standards of English for Academic Purposes? I am going to provide you with a passage at a time. OK?'."
   ]
  },
  {
   "cell_type": "code",
   "execution_count": null,
   "id": "6472252e-57c8-4bc2-8c67-bb39cdfc66d2",
   "metadata": {
    "tags": []
   },
   "outputs": [],
   "source": [
    "with open(file, 'a') as responses:\n",
    "    responses.write('ChatGPT revision of writing in ERPP' + '\\n\\n')\n",
    "    prompt = 'Dear ChatGPT, would it be possible for you to improve the writing of certain passages of a research article considering the generally accepted standards of English for Academic Purposes? I am going to provide you with a passage at a time. OK?'\n",
    "    responses.write(prompt + '\\n\\n')\n",
    "    query = get_completion(prompt)\n",
    "    responses.write(query + '\\n\\n')\n",
    "with open(file, 'r') as responses:\n",
    "    print(responses.read())"
   ]
  },
  {
   "cell_type": "markdown",
   "id": "6975ca1b-4f0f-429d-b3fe-a6d1ca2bba80",
   "metadata": {},
   "source": [
    "## Getting improved passages from ChatGPT\n",
    "1. Enter one paragraph at a time, if you try to enter multiple paragraphs, ChatGPT will summarise the text;\n",
    "2. The programme will keep prompting you for the next paragraph. When you are done, just enter a blank paragraph by hitting 'Enter';\n",
    "3. Move the output file to a safe location."
   ]
  },
  {
   "cell_type": "code",
   "execution_count": null,
   "id": "1a5f07c4-34dc-422b-b6a9-5a1a6499f148",
   "metadata": {
    "tags": []
   },
   "outputs": [],
   "source": [
    "sequence = 1\n",
    "end = False\n",
    "passage = ''\n",
    "while end == False:\n",
    "    passage = str(input('Enter passage ' + str(sequence) + ': '))\n",
    "    if passage != '':\n",
    "        with open(file, 'a') as responses:\n",
    "            responses.write('Passage ' + str(sequence) + ':\\n' + passage + '\\n\\n')\n",
    "            query = get_completion(passage)\n",
    "            responses.write('Improved passage ' + str(sequence) + ':\\n' + query + '\\n\\n')\n",
    "            print('\\nImproved passage ' + str(sequence) + ':\\n' + query)\n",
    "            clear_output(wait = True)\n",
    "        sequence += 1\n",
    "    else:\n",
    "        end = True\n",
    "        clear_output()"
   ]
  }
 ],
 "metadata": {
  "kernelspec": {
   "display_name": "Python 3 (ipykernel)",
   "language": "python",
   "name": "python3"
  },
  "language_info": {
   "codemirror_mode": {
    "name": "ipython",
    "version": 3
   },
   "file_extension": ".py",
   "mimetype": "text/x-python",
   "name": "python",
   "nbconvert_exporter": "python",
   "pygments_lexer": "ipython3",
   "version": "3.10.12"
  }
 },
 "nbformat": 4,
 "nbformat_minor": 5
}

{
 "cells": [
  {
   "cell_type": "markdown",
   "id": "810d9f10-ec19-4b09-8f90-e983e460b319",
   "metadata": {},
   "source": [
    "<center>\n",
    "<img src=\"http://corpuslg.org/lael_english/wp-content/uploads/2020/04/lael_50_years_narrow_white.png.400px_300dpi.png\" width=\"300\" alt=\"LAEL 50 years logo\">\n",
    "<h3>APPLIED LINGUISTICS GRADUATE PROGRAMME (LAEL)</h3>\n",
    "</center>\n",
    "<hr>"
   ]
  },
  {
   "cell_type": "markdown",
   "id": "888c2c96-2fc3-4a1a-995b-c388036a2a15",
   "metadata": {},
   "source": [
    "# Researching with ChatGPT via Jupyter Notebooks"
   ]
  },
  {
   "cell_type": "markdown",
   "id": "a5fe77d8-eae6-4940-b51e-5c899c2c5bc7",
   "metadata": {},
   "source": [
    "## Introduction to Jupyter Notebooks\n",
    "Think [Jupyter Notebooks](https://jupyter.org/) as notebooks reserchers use to note down details of their experiments. This document you are reading is a Jupyter Notebook.\n",
    "\n",
    "It combines computer code with descriptive elements and is widely used among Data Scientists for prototyping and demonstrating solutions. It could also be useful in our practice in Corpus Linguistics to develop tools and knowledge objects that can be easily shared.\n",
    "\n",
    "You can write text in 'markdown' cells like this very one you are reading and you can run code and see the resulting output in 'code' cells like the following one:"
   ]
  },
  {
   "cell_type": "code",
   "execution_count": 2,
   "id": "61ec2854-7b80-4da7-a54c-a933bd92d141",
   "metadata": {
    "tags": []
   },
   "outputs": [
    {
     "name": "stdout",
     "output_type": "stream",
     "text": [
      "Hello world!\n"
     ]
    }
   ],
   "source": [
    "print('Hello world!')"
   ]
  },
  {
   "cell_type": "markdown",
   "id": "04572286-118b-4ec5-8069-e968a4fa016c",
   "metadata": {},
   "source": [
    "To run a cell, click on it and press (Shift+Enter). If it is a 'markdown' cell, it will be rendered. If it is a 'code' cell, the code in it will be executed."
   ]
  },
  {
   "cell_type": "markdown",
   "id": "2f162457-5b1a-42b2-9cf4-9256d8644a21",
   "metadata": {},
   "source": [
    "## Python distributions"
   ]
  },
  {
   "cell_type": "markdown",
   "id": "32c7afa5-30f7-49c6-b995-899ab606739c",
   "metadata": {},
   "source": [
    "### Anaconda\n",
    "[Anaconda](https://www.anaconda.com/) pioneered in promoting Python into business data analytics and provides one of the best-known Python distributions to date."
   ]
  },
  {
   "cell_type": "markdown",
   "id": "140b7ea0-44e2-4a1e-b51e-f7f91f67f02d",
   "metadata": {},
   "source": [
    "- [Here](https://anaconda.cloud/sign-up) you can sign up to an account\n",
    "- [Here](https://www.anaconda.com/download#downloads) you can download an installer for Windows, Mac or Linux\n",
    "- Follow this [installation procedure](https://docs.anaconda.com/free/anaconda/install/)"
   ]
  },
  {
   "cell_type": "markdown",
   "id": "0af2d093-89ee-4d83-a77f-55f149051dcc",
   "metadata": {},
   "source": []
  },
  {
   "cell_type": "markdown",
   "id": "688ab830-7e3a-4e06-a6e7-e3bdae56b517",
   "metadata": {},
   "source": [
    "### Native Python on Ubuntu"
   ]
  },
  {
   "cell_type": "code",
   "execution_count": null,
   "id": "5adb4c5f-a35d-4786-bfe5-fc27fb94ec4f",
   "metadata": {},
   "outputs": [],
   "source": []
  },
  {
   "cell_type": "markdown",
   "id": "85a7586d-8d70-4bc8-b015-b9c279a1c666",
   "metadata": {},
   "source": [
    "## References\n",
    "- [Anaconda](https://www.anaconda.com/)\n",
    "- [How To Install Python 3 and Set Up a Programming Environment on an Ubuntu 20.04 Server](https://www.digitalocean.com/community/tutorials/how-to-install-python-3-and-set-up-a-programming-environment-on-an-ubuntu-20-04-server)\n",
    "- [Jupyter Project](https://jupyter.org/)\n",
    "- [Markdown Cheatsheet](https://github.com/adam-p/markdown-here/wiki/Markdown-Cheatsheet)"
   ]
  },
  {
   "cell_type": "code",
   "execution_count": null,
   "id": "ae27c38a-4851-44da-92b1-fa1ea7ef51c4",
   "metadata": {},
   "outputs": [],
   "source": []
  }
 ],
 "metadata": {
  "kernelspec": {
   "display_name": "Python 3 (ipykernel)",
   "language": "python",
   "name": "python3"
  },
  "language_info": {
   "codemirror_mode": {
    "name": "ipython",
    "version": 3
   },
   "file_extension": ".py",
   "mimetype": "text/x-python",
   "name": "python",
   "nbconvert_exporter": "python",
   "pygments_lexer": "ipython3",
   "version": "3.10.12"
  }
 },
 "nbformat": 4,
 "nbformat_minor": 5
}
